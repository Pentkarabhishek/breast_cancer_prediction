{
 "cells": [
  {
   "cell_type": "code",
   "execution_count": 2,
   "id": "ae1a4296",
   "metadata": {},
   "outputs": [],
   "source": [
    "import numpy as np #linear algebra\n",
    "import pandas as pd #data processing\n",
    "\n",
    "import matplotlib.pyplot as plt #data visualization\n",
    "import seaborn as sns #data visualization\n",
    "\n",
    "import warnings\n",
    "warnings.filterwarnings(\"ignore\") #to ignore the warnings\n",
    "\n",
    "#for model building\n",
    "from sklearn.metrics import accuracy_score\n",
    "from sklearn.metrics import confusion_matrix\n",
    "from sklearn.preprocessing import StandardScaler\n",
    "from sklearn.linear_model import LogisticRegression\n",
    "from sklearn.neighbors import KNeighborsClassifier\n",
    "from sklearn.svm import SVC\n",
    "from sklearn.tree import DecisionTreeClassifier\n",
    "from sklearn.ensemble import RandomForestClassifier\n",
    "from sklearn.ensemble import GradientBoostingClassifier\n",
    "from sklearn.ensemble import AdaBoostClassifier\n"
   ]
  },
  {
   "cell_type": "code",
   "execution_count": 12,
   "id": "a159fbc2",
   "metadata": {},
   "outputs": [],
   "source": [
    "# Loading the data\n",
    "breast_cancer= pd.read_csv('C:\\\\Users\\\\abhip\\\\Desktop\\\\breast-cancer_csv.csv')"
   ]
  },
  {
   "cell_type": "code",
   "execution_count": 13,
   "id": "5332d4ec",
   "metadata": {},
   "outputs": [
    {
     "data": {
      "text/html": [
       "<div>\n",
       "<style scoped>\n",
       "    .dataframe tbody tr th:only-of-type {\n",
       "        vertical-align: middle;\n",
       "    }\n",
       "\n",
       "    .dataframe tbody tr th {\n",
       "        vertical-align: top;\n",
       "    }\n",
       "\n",
       "    .dataframe thead th {\n",
       "        text-align: right;\n",
       "    }\n",
       "</style>\n",
       "<table border=\"1\" class=\"dataframe\">\n",
       "  <thead>\n",
       "    <tr style=\"text-align: right;\">\n",
       "      <th></th>\n",
       "      <th>age</th>\n",
       "      <th>menopause</th>\n",
       "      <th>tumor-size</th>\n",
       "      <th>inv-nodes</th>\n",
       "      <th>node-caps</th>\n",
       "      <th>deg-malig</th>\n",
       "      <th>breast</th>\n",
       "      <th>breast-quad</th>\n",
       "      <th>irradiat</th>\n",
       "      <th>Class</th>\n",
       "    </tr>\n",
       "  </thead>\n",
       "  <tbody>\n",
       "    <tr>\n",
       "      <th>0</th>\n",
       "      <td>40-49</td>\n",
       "      <td>premeno</td>\n",
       "      <td>15-19</td>\n",
       "      <td>0-2</td>\n",
       "      <td>yes</td>\n",
       "      <td>3</td>\n",
       "      <td>right</td>\n",
       "      <td>left_up</td>\n",
       "      <td>no</td>\n",
       "      <td>recurrence-events</td>\n",
       "    </tr>\n",
       "    <tr>\n",
       "      <th>1</th>\n",
       "      <td>50-59</td>\n",
       "      <td>ge40</td>\n",
       "      <td>15-19</td>\n",
       "      <td>0-2</td>\n",
       "      <td>no</td>\n",
       "      <td>1</td>\n",
       "      <td>right</td>\n",
       "      <td>central</td>\n",
       "      <td>no</td>\n",
       "      <td>no-recurrence-events</td>\n",
       "    </tr>\n",
       "    <tr>\n",
       "      <th>2</th>\n",
       "      <td>50-59</td>\n",
       "      <td>ge40</td>\n",
       "      <td>35-39</td>\n",
       "      <td>0-2</td>\n",
       "      <td>no</td>\n",
       "      <td>2</td>\n",
       "      <td>left</td>\n",
       "      <td>left_low</td>\n",
       "      <td>no</td>\n",
       "      <td>recurrence-events</td>\n",
       "    </tr>\n",
       "    <tr>\n",
       "      <th>3</th>\n",
       "      <td>40-49</td>\n",
       "      <td>premeno</td>\n",
       "      <td>35-39</td>\n",
       "      <td>0-2</td>\n",
       "      <td>yes</td>\n",
       "      <td>3</td>\n",
       "      <td>right</td>\n",
       "      <td>left_low</td>\n",
       "      <td>yes</td>\n",
       "      <td>no-recurrence-events</td>\n",
       "    </tr>\n",
       "    <tr>\n",
       "      <th>4</th>\n",
       "      <td>40-49</td>\n",
       "      <td>premeno</td>\n",
       "      <td>30-34</td>\n",
       "      <td>3-5</td>\n",
       "      <td>yes</td>\n",
       "      <td>2</td>\n",
       "      <td>left</td>\n",
       "      <td>right_up</td>\n",
       "      <td>no</td>\n",
       "      <td>recurrence-events</td>\n",
       "    </tr>\n",
       "  </tbody>\n",
       "</table>\n",
       "</div>"
      ],
      "text/plain": [
       "     age menopause tumor-size inv-nodes node-caps  deg-malig breast  \\\n",
       "0  40-49   premeno      15-19       0-2       yes          3  right   \n",
       "1  50-59      ge40      15-19       0-2        no          1  right   \n",
       "2  50-59      ge40      35-39       0-2        no          2   left   \n",
       "3  40-49   premeno      35-39       0-2       yes          3  right   \n",
       "4  40-49   premeno      30-34       3-5       yes          2   left   \n",
       "\n",
       "  breast-quad irradiat                 Class  \n",
       "0     left_up       no     recurrence-events  \n",
       "1     central       no  no-recurrence-events  \n",
       "2    left_low       no     recurrence-events  \n",
       "3    left_low      yes  no-recurrence-events  \n",
       "4    right_up       no     recurrence-events  "
      ]
     },
     "execution_count": 13,
     "metadata": {},
     "output_type": "execute_result"
    }
   ],
   "source": [
    "breast_cancer.head()"
   ]
  },
  {
   "cell_type": "code",
   "execution_count": 14,
   "id": "0b6921c0",
   "metadata": {},
   "outputs": [
    {
     "name": "stdout",
     "output_type": "stream",
     "text": [
      "<class 'pandas.core.frame.DataFrame'>\n",
      "RangeIndex: 286 entries, 0 to 285\n",
      "Data columns (total 10 columns):\n",
      " #   Column       Non-Null Count  Dtype \n",
      "---  ------       --------------  ----- \n",
      " 0   age          286 non-null    object\n",
      " 1   menopause    286 non-null    object\n",
      " 2   tumor-size   286 non-null    object\n",
      " 3   inv-nodes    286 non-null    object\n",
      " 4   node-caps    278 non-null    object\n",
      " 5   deg-malig    286 non-null    int64 \n",
      " 6   breast       286 non-null    object\n",
      " 7   breast-quad  285 non-null    object\n",
      " 8   irradiat     286 non-null    object\n",
      " 9   Class        286 non-null    object\n",
      "dtypes: int64(1), object(9)\n",
      "memory usage: 22.5+ KB\n"
     ]
    }
   ],
   "source": [
    "breast_cancer.info()"
   ]
  },
  {
   "cell_type": "code",
   "execution_count": 15,
   "id": "139c013a",
   "metadata": {},
   "outputs": [
    {
     "data": {
      "text/plain": [
       "0      False\n",
       "1      False\n",
       "2      False\n",
       "3      False\n",
       "4      False\n",
       "       ...  \n",
       "281    False\n",
       "282    False\n",
       "283    False\n",
       "284    False\n",
       "285    False\n",
       "Length: 286, dtype: bool"
      ]
     },
     "execution_count": 15,
     "metadata": {},
     "output_type": "execute_result"
    }
   ],
   "source": [
    "#Cleanning data set and removing empty cells and duplicate rows as well\n",
    "breast_cancer.duplicated()"
   ]
  },
  {
   "cell_type": "code",
   "execution_count": 16,
   "id": "6289c04a",
   "metadata": {},
   "outputs": [],
   "source": [
    "breast_cancer.drop_duplicates(inplace = True)"
   ]
  },
  {
   "cell_type": "code",
   "execution_count": 17,
   "id": "d1a133f8",
   "metadata": {},
   "outputs": [
    {
     "data": {
      "text/html": [
       "<div>\n",
       "<style scoped>\n",
       "    .dataframe tbody tr th:only-of-type {\n",
       "        vertical-align: middle;\n",
       "    }\n",
       "\n",
       "    .dataframe tbody tr th {\n",
       "        vertical-align: top;\n",
       "    }\n",
       "\n",
       "    .dataframe thead th {\n",
       "        text-align: right;\n",
       "    }\n",
       "</style>\n",
       "<table border=\"1\" class=\"dataframe\">\n",
       "  <thead>\n",
       "    <tr style=\"text-align: right;\">\n",
       "      <th></th>\n",
       "      <th>age</th>\n",
       "      <th>menopause</th>\n",
       "      <th>tumor-size</th>\n",
       "      <th>inv-nodes</th>\n",
       "      <th>node-caps</th>\n",
       "      <th>deg-malig</th>\n",
       "      <th>breast</th>\n",
       "      <th>breast-quad</th>\n",
       "      <th>irradiat</th>\n",
       "      <th>Class</th>\n",
       "    </tr>\n",
       "  </thead>\n",
       "  <tbody>\n",
       "    <tr>\n",
       "      <th>0</th>\n",
       "      <td>3.0</td>\n",
       "      <td>1</td>\n",
       "      <td>4</td>\n",
       "      <td>1</td>\n",
       "      <td>1.0</td>\n",
       "      <td>3</td>\n",
       "      <td>1</td>\n",
       "      <td>1.0</td>\n",
       "      <td>0</td>\n",
       "      <td>recurrence-events</td>\n",
       "    </tr>\n",
       "    <tr>\n",
       "      <th>1</th>\n",
       "      <td>4.0</td>\n",
       "      <td>2</td>\n",
       "      <td>4</td>\n",
       "      <td>1</td>\n",
       "      <td>0.0</td>\n",
       "      <td>1</td>\n",
       "      <td>1</td>\n",
       "      <td>2.0</td>\n",
       "      <td>0</td>\n",
       "      <td>no-recurrence-events</td>\n",
       "    </tr>\n",
       "    <tr>\n",
       "      <th>2</th>\n",
       "      <td>4.0</td>\n",
       "      <td>2</td>\n",
       "      <td>8</td>\n",
       "      <td>1</td>\n",
       "      <td>0.0</td>\n",
       "      <td>2</td>\n",
       "      <td>0</td>\n",
       "      <td>3.0</td>\n",
       "      <td>0</td>\n",
       "      <td>recurrence-events</td>\n",
       "    </tr>\n",
       "    <tr>\n",
       "      <th>3</th>\n",
       "      <td>3.0</td>\n",
       "      <td>1</td>\n",
       "      <td>8</td>\n",
       "      <td>1</td>\n",
       "      <td>1.0</td>\n",
       "      <td>3</td>\n",
       "      <td>1</td>\n",
       "      <td>3.0</td>\n",
       "      <td>1</td>\n",
       "      <td>no-recurrence-events</td>\n",
       "    </tr>\n",
       "    <tr>\n",
       "      <th>4</th>\n",
       "      <td>3.0</td>\n",
       "      <td>1</td>\n",
       "      <td>7</td>\n",
       "      <td>2</td>\n",
       "      <td>1.0</td>\n",
       "      <td>2</td>\n",
       "      <td>0</td>\n",
       "      <td>4.0</td>\n",
       "      <td>0</td>\n",
       "      <td>recurrence-events</td>\n",
       "    </tr>\n",
       "    <tr>\n",
       "      <th>...</th>\n",
       "      <td>...</td>\n",
       "      <td>...</td>\n",
       "      <td>...</td>\n",
       "      <td>...</td>\n",
       "      <td>...</td>\n",
       "      <td>...</td>\n",
       "      <td>...</td>\n",
       "      <td>...</td>\n",
       "      <td>...</td>\n",
       "      <td>...</td>\n",
       "    </tr>\n",
       "    <tr>\n",
       "      <th>281</th>\n",
       "      <td>4.0</td>\n",
       "      <td>2</td>\n",
       "      <td>7</td>\n",
       "      <td>3</td>\n",
       "      <td>1.0</td>\n",
       "      <td>2</td>\n",
       "      <td>0</td>\n",
       "      <td>3.0</td>\n",
       "      <td>0</td>\n",
       "      <td>no-recurrence-events</td>\n",
       "    </tr>\n",
       "    <tr>\n",
       "      <th>282</th>\n",
       "      <td>4.0</td>\n",
       "      <td>1</td>\n",
       "      <td>6</td>\n",
       "      <td>2</td>\n",
       "      <td>1.0</td>\n",
       "      <td>2</td>\n",
       "      <td>0</td>\n",
       "      <td>3.0</td>\n",
       "      <td>1</td>\n",
       "      <td>no-recurrence-events</td>\n",
       "    </tr>\n",
       "    <tr>\n",
       "      <th>283</th>\n",
       "      <td>2.0</td>\n",
       "      <td>1</td>\n",
       "      <td>7</td>\n",
       "      <td>3</td>\n",
       "      <td>1.0</td>\n",
       "      <td>2</td>\n",
       "      <td>1</td>\n",
       "      <td>4.0</td>\n",
       "      <td>0</td>\n",
       "      <td>no-recurrence-events</td>\n",
       "    </tr>\n",
       "    <tr>\n",
       "      <th>284</th>\n",
       "      <td>4.0</td>\n",
       "      <td>1</td>\n",
       "      <td>4</td>\n",
       "      <td>1</td>\n",
       "      <td>0.0</td>\n",
       "      <td>2</td>\n",
       "      <td>1</td>\n",
       "      <td>3.0</td>\n",
       "      <td>0</td>\n",
       "      <td>no-recurrence-events</td>\n",
       "    </tr>\n",
       "    <tr>\n",
       "      <th>285</th>\n",
       "      <td>4.0</td>\n",
       "      <td>2</td>\n",
       "      <td>9</td>\n",
       "      <td>1</td>\n",
       "      <td>0.0</td>\n",
       "      <td>3</td>\n",
       "      <td>0</td>\n",
       "      <td>4.0</td>\n",
       "      <td>0</td>\n",
       "      <td>no-recurrence-events</td>\n",
       "    </tr>\n",
       "  </tbody>\n",
       "</table>\n",
       "<p>272 rows × 10 columns</p>\n",
       "</div>"
      ],
      "text/plain": [
       "     age  menopause  tumor-size  inv-nodes  node-caps  deg-malig  breast  \\\n",
       "0    3.0          1           4          1        1.0          3       1   \n",
       "1    4.0          2           4          1        0.0          1       1   \n",
       "2    4.0          2           8          1        0.0          2       0   \n",
       "3    3.0          1           8          1        1.0          3       1   \n",
       "4    3.0          1           7          2        1.0          2       0   \n",
       "..   ...        ...         ...        ...        ...        ...     ...   \n",
       "281  4.0          2           7          3        1.0          2       0   \n",
       "282  4.0          1           6          2        1.0          2       0   \n",
       "283  2.0          1           7          3        1.0          2       1   \n",
       "284  4.0          1           4          1        0.0          2       1   \n",
       "285  4.0          2           9          1        0.0          3       0   \n",
       "\n",
       "     breast-quad  irradiat                 Class  \n",
       "0            1.0         0     recurrence-events  \n",
       "1            2.0         0  no-recurrence-events  \n",
       "2            3.0         0     recurrence-events  \n",
       "3            3.0         1  no-recurrence-events  \n",
       "4            4.0         0     recurrence-events  \n",
       "..           ...       ...                   ...  \n",
       "281          3.0         0  no-recurrence-events  \n",
       "282          3.0         1  no-recurrence-events  \n",
       "283          4.0         0  no-recurrence-events  \n",
       "284          3.0         0  no-recurrence-events  \n",
       "285          4.0         0  no-recurrence-events  \n",
       "\n",
       "[272 rows x 10 columns]"
      ]
     },
     "execution_count": 17,
     "metadata": {},
     "output_type": "execute_result"
    }
   ],
   "source": [
    "breast_cancer['node-caps'] = breast_cancer['node-caps'].map({'yes': 1, 'no' : 0})\n",
    "breast_cancer['irradiat'] = breast_cancer['irradiat'].map({'yes': 1, 'no' : 0})\n",
    "breast_cancer['breast'] = breast_cancer['breast'].map({'right': 1, 'left' : 0})\n",
    "\n",
    "# Define a dictionary mapping age range to integers\n",
    "age_range_mapping = {'20-29': 1, '30-39': 2, '40-49': 3, '50-59': 4,'59+' : 5}\n",
    "# Change age column into map age range to integers\n",
    "breast_cancer['age'] = breast_cancer.age.map(age_range_mapping)\n",
    "breast_cancer\n",
    "\n",
    "# change menopause column into map age range to integers\n",
    "menopause_mapping = {'premeno' : 1, 'ge40' : 2, 'lt40' : 3}\n",
    "breast_cancer['menopause'] = breast_cancer.menopause.map(menopause_mapping) \n",
    "\n",
    "\n",
    "# Define a dictionary mapping tumor-size range to integers\n",
    "tumor_range_mapping = {'15-19' :4, '35-39' : 8, '30-34' : 7, '25-29' : 6, '40-44' : 9, '10-14' : 3, '0-4' : 1,\n",
    "       '20-24' : 5, '45-49' : 10, '50-54' : 11, '5-9': 2}\n",
    "# Change age column into map age range to integers\n",
    "breast_cancer['tumor-size'] = breast_cancer['tumor-size'].map(tumor_range_mapping)\n",
    "\n",
    "\n",
    "# Define a dictionary mapping inv-nodes range to integers\n",
    "inv_range_mapping = {'0-2':1, '3-5':2, '15-17':6, '6-8':3, '9-11':4, '24-26':7, '12-14':5}\n",
    "breast_cancer['inv-nodes'] = breast_cancer['inv-nodes'].map(inv_range_mapping)\n",
    "\n",
    "# Define a dictionary mapping breast-quad sections into integers\n",
    "breast_range_mapping = {'left_up' : 1, 'central' : 2, 'left_low' : 3, 'right_up' : 4, 'right_low' : 5}\n",
    "breast_cancer['breast-quad'] = breast_cancer['breast-quad'].map(breast_range_mapping)\n",
    "breast_cancer"
   ]
  },
  {
   "cell_type": "code",
   "execution_count": 18,
   "id": "369d5b55",
   "metadata": {},
   "outputs": [],
   "source": [
    "breast_cancer.dropna(inplace = True)"
   ]
  },
  {
   "cell_type": "code",
   "execution_count": 19,
   "id": "8a8a347e",
   "metadata": {},
   "outputs": [
    {
     "name": "stdout",
     "output_type": "stream",
     "text": [
      "<class 'pandas.core.frame.DataFrame'>\n",
      "Int64Index: 207 entries, 0 to 285\n",
      "Data columns (total 10 columns):\n",
      " #   Column       Non-Null Count  Dtype  \n",
      "---  ------       --------------  -----  \n",
      " 0   age          207 non-null    float64\n",
      " 1   menopause    207 non-null    int64  \n",
      " 2   tumor-size   207 non-null    int64  \n",
      " 3   inv-nodes    207 non-null    int64  \n",
      " 4   node-caps    207 non-null    float64\n",
      " 5   deg-malig    207 non-null    int64  \n",
      " 6   breast       207 non-null    int64  \n",
      " 7   breast-quad  207 non-null    float64\n",
      " 8   irradiat     207 non-null    int64  \n",
      " 9   Class        207 non-null    object \n",
      "dtypes: float64(3), int64(6), object(1)\n",
      "memory usage: 17.8+ KB\n"
     ]
    }
   ],
   "source": [
    "breast_cancer.info()  # Total rows are 263 with no duplicate rows and no empty cells."
   ]
  },
  {
   "cell_type": "code",
   "execution_count": 20,
   "id": "e2dfce9b",
   "metadata": {},
   "outputs": [],
   "source": [
    "# 1. get the data ready\n",
    "# create x (Features matrix)\n",
    "x = breast_cancer.drop('Class',axis = 1)\n",
    "# create y (labels)\n",
    "y = breast_cancer.Class"
   ]
  },
  {
   "cell_type": "code",
   "execution_count": 21,
   "id": "b7bf9c7f",
   "metadata": {},
   "outputs": [
    {
     "data": {
      "text/plain": [
       "{'bootstrap': True,\n",
       " 'ccp_alpha': 0.0,\n",
       " 'class_weight': None,\n",
       " 'criterion': 'gini',\n",
       " 'max_depth': None,\n",
       " 'max_features': 'sqrt',\n",
       " 'max_leaf_nodes': None,\n",
       " 'max_samples': None,\n",
       " 'min_impurity_decrease': 0.0,\n",
       " 'min_samples_leaf': 1,\n",
       " 'min_samples_split': 2,\n",
       " 'min_weight_fraction_leaf': 0.0,\n",
       " 'n_estimators': 100,\n",
       " 'n_jobs': None,\n",
       " 'oob_score': False,\n",
       " 'random_state': None,\n",
       " 'verbose': 0,\n",
       " 'warm_start': False}"
      ]
     },
     "execution_count": 21,
     "metadata": {},
     "output_type": "execute_result"
    }
   ],
   "source": [
    "#2. choose the right model & hyperparameters\n",
    "\n",
    "from sklearn.ensemble import RandomForestClassifier\n",
    "clf = RandomForestClassifier()\n",
    "# we will keep the default hyperparameters\n",
    "\n",
    "clf.get_params()"
   ]
  },
  {
   "cell_type": "code",
   "execution_count": 22,
   "id": "0736a06d",
   "metadata": {},
   "outputs": [
    {
     "data": {
      "text/plain": [
       "array(['recurrence-events', 'recurrence-events', 'no-recurrence-events',\n",
       "       'recurrence-events', 'recurrence-events', 'no-recurrence-events',\n",
       "       'no-recurrence-events', 'recurrence-events',\n",
       "       'no-recurrence-events', 'no-recurrence-events',\n",
       "       'no-recurrence-events', 'recurrence-events',\n",
       "       'no-recurrence-events', 'no-recurrence-events',\n",
       "       'no-recurrence-events', 'no-recurrence-events',\n",
       "       'recurrence-events', 'no-recurrence-events',\n",
       "       'no-recurrence-events', 'recurrence-events',\n",
       "       'no-recurrence-events', 'no-recurrence-events',\n",
       "       'no-recurrence-events', 'no-recurrence-events',\n",
       "       'no-recurrence-events', 'no-recurrence-events',\n",
       "       'recurrence-events', 'no-recurrence-events',\n",
       "       'no-recurrence-events', 'no-recurrence-events',\n",
       "       'no-recurrence-events', 'no-recurrence-events',\n",
       "       'no-recurrence-events', 'no-recurrence-events',\n",
       "       'recurrence-events', 'recurrence-events', 'no-recurrence-events',\n",
       "       'no-recurrence-events', 'no-recurrence-events',\n",
       "       'recurrence-events', 'no-recurrence-events',\n",
       "       'no-recurrence-events'], dtype=object)"
      ]
     },
     "execution_count": 22,
     "metadata": {},
     "output_type": "execute_result"
    }
   ],
   "source": [
    "#3. Fit the Model to the training data\n",
    "\n",
    "from sklearn.model_selection import train_test_split\n",
    "\n",
    "x_train, x_test,y_train,y_test = train_test_split(x,y,test_size = 0.2)\n",
    "clf.fit(x_train,y_train);\n",
    "\n",
    "#make a prediction\n",
    "y_preds = clf.predict(x_test)\n",
    "y_preds"
   ]
  },
  {
   "cell_type": "code",
   "execution_count": 23,
   "id": "08324faa",
   "metadata": {},
   "outputs": [
    {
     "data": {
      "text/plain": [
       "270       recurrence-events\n",
       "74        recurrence-events\n",
       "14        recurrence-events\n",
       "43        recurrence-events\n",
       "233    no-recurrence-events\n",
       "5      no-recurrence-events\n",
       "188    no-recurrence-events\n",
       "256    no-recurrence-events\n",
       "220    no-recurrence-events\n",
       "102    no-recurrence-events\n",
       "52     no-recurrence-events\n",
       "271       recurrence-events\n",
       "40        recurrence-events\n",
       "275    no-recurrence-events\n",
       "281    no-recurrence-events\n",
       "99        recurrence-events\n",
       "258    no-recurrence-events\n",
       "107       recurrence-events\n",
       "157       recurrence-events\n",
       "96        recurrence-events\n",
       "25     no-recurrence-events\n",
       "213    no-recurrence-events\n",
       "255       recurrence-events\n",
       "158    no-recurrence-events\n",
       "148    no-recurrence-events\n",
       "141    no-recurrence-events\n",
       "210       recurrence-events\n",
       "223    no-recurrence-events\n",
       "9      no-recurrence-events\n",
       "277    no-recurrence-events\n",
       "170       recurrence-events\n",
       "206    no-recurrence-events\n",
       "163    no-recurrence-events\n",
       "279    no-recurrence-events\n",
       "160    no-recurrence-events\n",
       "122    no-recurrence-events\n",
       "219    no-recurrence-events\n",
       "19     no-recurrence-events\n",
       "93     no-recurrence-events\n",
       "116       recurrence-events\n",
       "89     no-recurrence-events\n",
       "242    no-recurrence-events\n",
       "Name: Class, dtype: object"
      ]
     },
     "execution_count": 23,
     "metadata": {},
     "output_type": "execute_result"
    }
   ],
   "source": [
    "y_test"
   ]
  },
  {
   "cell_type": "code",
   "execution_count": 24,
   "id": "4b3facc3",
   "metadata": {},
   "outputs": [
    {
     "data": {
      "text/plain": [
       "0.9696969696969697"
      ]
     },
     "execution_count": 24,
     "metadata": {},
     "output_type": "execute_result"
    }
   ],
   "source": [
    "#4. Evalute the model on the training data & test data\n",
    "\n",
    "clf.score(x_train,y_train)"
   ]
  },
  {
   "cell_type": "code",
   "execution_count": 25,
   "id": "0db5b0b3",
   "metadata": {},
   "outputs": [
    {
     "data": {
      "text/plain": [
       "0.7142857142857143"
      ]
     },
     "execution_count": 25,
     "metadata": {},
     "output_type": "execute_result"
    }
   ],
   "source": [
    "clf.score(x_test,y_test)"
   ]
  },
  {
   "cell_type": "code",
   "execution_count": 26,
   "id": "c8ad2963",
   "metadata": {},
   "outputs": [
    {
     "name": "stdout",
     "output_type": "stream",
     "text": [
      "                      precision    recall  f1-score   support\n",
      "\n",
      "no-recurrence-events       0.77      0.82      0.79        28\n",
      "   recurrence-events       0.58      0.50      0.54        14\n",
      "\n",
      "            accuracy                           0.71        42\n",
      "           macro avg       0.68      0.66      0.67        42\n",
      "        weighted avg       0.71      0.71      0.71        42\n",
      "\n"
     ]
    }
   ],
   "source": [
    "from sklearn.metrics import classification_report,confusion_matrix,accuracy_score\n",
    "print(classification_report(y_test,y_preds))"
   ]
  },
  {
   "cell_type": "code",
   "execution_count": 27,
   "id": "bf40eaf6",
   "metadata": {},
   "outputs": [
    {
     "data": {
      "text/plain": [
       "array([[23,  5],\n",
       "       [ 7,  7]], dtype=int64)"
      ]
     },
     "execution_count": 27,
     "metadata": {},
     "output_type": "execute_result"
    }
   ],
   "source": [
    "confusion_matrix(y_test,y_preds)"
   ]
  },
  {
   "cell_type": "code",
   "execution_count": 28,
   "id": "5846be33",
   "metadata": {},
   "outputs": [
    {
     "data": {
      "text/plain": [
       "0.7142857142857143"
      ]
     },
     "execution_count": 28,
     "metadata": {},
     "output_type": "execute_result"
    }
   ],
   "source": [
    "accuracy_score(y_test,y_preds)"
   ]
  },
  {
   "cell_type": "code",
   "execution_count": 29,
   "id": "77148e99",
   "metadata": {},
   "outputs": [
    {
     "name": "stdout",
     "output_type": "stream",
     "text": [
      "Trying model with 10 estimatore...\n",
      "model accuracy on test set : 73.809524%\n",
      "\n",
      "Trying model with 20 estimatore...\n",
      "model accuracy on test set : 78.571429%\n",
      "\n",
      "Trying model with 30 estimatore...\n",
      "model accuracy on test set : 76.190476%\n",
      "\n",
      "Trying model with 40 estimatore...\n",
      "model accuracy on test set : 78.571429%\n",
      "\n",
      "Trying model with 50 estimatore...\n",
      "model accuracy on test set : 69.047619%\n",
      "\n",
      "Trying model with 60 estimatore...\n",
      "model accuracy on test set : 76.190476%\n",
      "\n",
      "Trying model with 70 estimatore...\n",
      "model accuracy on test set : 71.428571%\n",
      "\n",
      "Trying model with 80 estimatore...\n",
      "model accuracy on test set : 73.809524%\n",
      "\n",
      "Trying model with 90 estimatore...\n",
      "model accuracy on test set : 69.047619%\n",
      "\n"
     ]
    }
   ],
   "source": [
    "#5. Improve a model\n",
    "#Try different amount of n_estimators\n",
    "\n",
    "np.random.seed(42)\n",
    "for i in range(10,100,10):\n",
    "    print(f'Trying model with {i} estimatore...')\n",
    "    clf = RandomForestClassifier(n_estimators = i).fit(x_train,y_train)\n",
    "    print(f'model accuracy on test set : {clf.score(x_test,y_test)*100:2f}%')\n",
    "    print('')"
   ]
  },
  {
   "cell_type": "code",
   "execution_count": null,
   "id": "8fd2d2f5",
   "metadata": {},
   "outputs": [],
   "source": []
  }
 ],
 "metadata": {
  "kernelspec": {
   "display_name": "Python 3 (ipykernel)",
   "language": "python",
   "name": "python3"
  },
  "language_info": {
   "codemirror_mode": {
    "name": "ipython",
    "version": 3
   },
   "file_extension": ".py",
   "mimetype": "text/x-python",
   "name": "python",
   "nbconvert_exporter": "python",
   "pygments_lexer": "ipython3",
   "version": "3.10.9"
  }
 },
 "nbformat": 4,
 "nbformat_minor": 5
}
